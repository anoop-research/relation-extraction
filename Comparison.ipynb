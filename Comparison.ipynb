{
 "cells": [
  {
   "cell_type": "code",
   "execution_count": 22,
   "metadata": {
    "collapsed": false
   },
   "outputs": [],
   "source": [
    "import pandas as pd\n",
    "import numpy as np\n",
    "import glob\n",
    "import os\n",
    "from nltk.stem import SnowballStemmer\n",
    "\n",
    "from nltk.corpus import stopwords \n",
    "import re\n",
    "import matplotlib.pyplot as plt\n",
    "import itertools"
   ]
  },
  {
   "cell_type": "code",
   "execution_count": 23,
   "metadata": {
    "collapsed": true
   },
   "outputs": [],
   "source": [
    "data_path = './Data_and_Noun_Phrases/'"
   ]
  },
  {
   "cell_type": "code",
   "execution_count": 24,
   "metadata": {
    "collapsed": true
   },
   "outputs": [],
   "source": [
    "def clean_data(get_text):\n",
    "\n",
    "    #stops = set(stopwords.words(\"english\"))\n",
    "    #text = [w for w in get_text if not w in stops]\n",
    "    #text = \" \".join(get_text)\n",
    "    text = get_text\n",
    "\n",
    "    text = re.sub(r'[^a-z0-9]', ' ', text)\n",
    "    \n",
    "    text = re.sub(r\"(\\d{2})\",'digit', text)\n",
    "    \n",
    "    #convert single digit to keyword sin_key\n",
    "    \n",
    "    text = re.sub(r\"(\\d)\",'sin_key',text)\n",
    "\n",
    "    text = text.split()\n",
    "    stemmer = SnowballStemmer('english')\n",
    "    stemmed_words = [stemmer.stem(word) for word in text]\n",
    "    text = \" \".join(stemmed_words)\n",
    "    #Combine multiple spaces as one\n",
    "    text = re.sub(r'[ +]',' ',text)\n",
    "    return text"
   ]
  },
  {
   "cell_type": "code",
   "execution_count": 25,
   "metadata": {
    "collapsed": true
   },
   "outputs": [],
   "source": [
    "def load_data(path):\n",
    "    train=[]\n",
    "    dirs=os.listdir(path)\n",
    "    for files in glob.glob(path+\"/data/*.txt\"):\n",
    "        file_input = open(files).read().lower().split(\".\")\n",
    "        \n",
    "        for each_line in file_input:\n",
    "            processed_text = clean_data(each_line)\n",
    "            if processed_text!=' ' or processed_text!='':\n",
    "                train.append(processed_text)\n",
    "    return train        \n"
   ]
  },
  {
   "cell_type": "code",
   "execution_count": 26,
   "metadata": {
    "collapsed": true
   },
   "outputs": [],
   "source": [
    "data_cardiology = load_data(data_path+\"/cardiology\")\n",
    "data_neurology  = load_data(data_path+\"/neurology\")"
   ]
  },
  {
   "cell_type": "code",
   "execution_count": 27,
   "metadata": {
    "collapsed": true
   },
   "outputs": [],
   "source": [
    "\n",
    "relations = ['is','a','such','as','kind','of','has','part','member','instance','including','or','other',\n",
    "            'and','especially','in']\n",
    "stemmer = SnowballStemmer('english')\n",
    "stemmed_words = [stemmer.stem(word) for word in relations]"
   ]
  },
  {
   "cell_type": "code",
   "execution_count": 8,
   "metadata": {
    "collapsed": true
   },
   "outputs": [],
   "source": [
    "#vectorize the inputs\n",
    "\n",
    "def vectorize(input_data):\n",
    "    temp_data = []\n",
    "    train_data = []\n",
    "    found = False\n",
    "    counter = 0\n",
    "    for each_line in input_data:\n",
    "     \n",
    "        for dict_word in stemmed_words:\n",
    "            \n",
    "            for word in each_line.split(' '):\n",
    "                \n",
    "                if str(dict_word)==word:\n",
    "                    counter = counter+1\n",
    "                    #temp_data.append((stemmed_words.index(dict_word))+1)\n",
    "                    #found=True\n",
    "            #if not found:\n",
    "                #Not found flag\n",
    "            temp_data.append(counter)\n",
    "            counter=0\n",
    "            #found=False\n",
    "        train_data.append(temp_data)\n",
    "        temp_data =[]\n",
    "    return train_data\n",
    "                "
   ]
  },
  {
   "cell_type": "code",
   "execution_count": 9,
   "metadata": {
    "collapsed": true
   },
   "outputs": [],
   "source": [
    "data = data_cardiology+data_neurology\n",
    "train_data = vectorize(data)\n",
    "\n",
    "train_data = np.asarray(train_data)"
   ]
  },
  {
   "cell_type": "code",
   "execution_count": 10,
   "metadata": {
    "collapsed": true
   },
   "outputs": [],
   "source": [
    "#find the sum of the sublists\n",
    "\n",
    "summed_values =[]\n",
    "for each_value in train_data:\n",
    "    summed_values.append(np.sum(each_value))"
   ]
  },
  {
   "cell_type": "code",
   "execution_count": 11,
   "metadata": {
    "collapsed": true
   },
   "outputs": [],
   "source": [
    "y_data = []\n",
    "for values in summed_values:\n",
    "    if values>=5:\n",
    "        y_data.append(1)\n",
    "    else:\n",
    "        y_data.append(0)\n",
    "\n",
    "\n",
    "train_frame = pd.DataFrame(train_data,columns=relations)\n",
    "\n",
    "train_frame['target']=y_data\n"
   ]
  },
  {
   "cell_type": "code",
   "execution_count": 12,
   "metadata": {
    "collapsed": true
   },
   "outputs": [],
   "source": [
    "my_targets = train_frame.target.copy()"
   ]
  },
  {
   "cell_type": "code",
   "execution_count": 13,
   "metadata": {
    "collapsed": false
   },
   "outputs": [],
   "source": [
    "#Drop the coloumn\n",
    "train_frame.drop(['target'],inplace=True,axis=1)"
   ]
  },
  {
   "cell_type": "code",
   "execution_count": 14,
   "metadata": {
    "collapsed": false
   },
   "outputs": [],
   "source": [
    "from sklearn.tree import DecisionTreeClassifier\n",
    "from sklearn.ensemble import RandomForestClassifier,AdaBoostClassifier\n",
    "from sklearn.cross_validation import train_test_split\n",
    "from sklearn.metrics import accuracy_score,roc_auc_score,classification_report,confusion_matrix\n",
    "from sklearn.svm import LinearSVC"
   ]
  },
  {
   "cell_type": "code",
   "execution_count": 15,
   "metadata": {
    "collapsed": true
   },
   "outputs": [],
   "source": [
    "#Split the data set 70,30\n",
    "\n",
    "X_train,X_test,y_train,y_test = train_test_split(train_frame,my_targets,test_size=0.33,random_state=42)"
   ]
  },
  {
   "cell_type": "code",
   "execution_count": 16,
   "metadata": {
    "collapsed": false
   },
   "outputs": [],
   "source": [
    "def plot_confusion_matrix(cm, classes,\n",
    "                          normalize=False,classifier_name=\"decision\",\n",
    "                          title='Confusion matrix',\n",
    "                          cmap=plt.cm.Blues):\n",
    "    \"\"\"\n",
    "    This function prints and plots the confusion matrix.\n",
    "    Normalization can be applied by setting `normalize=True`.\n",
    "    \"\"\"\n",
    "    plt.imshow(cm, interpolation='nearest', cmap=cmap)\n",
    "    plt.title(title)\n",
    "    plt.colorbar()\n",
    "    tick_marks = np.arange(len(classes))\n",
    "    plt.xticks(tick_marks, classes, rotation=45)\n",
    "    plt.yticks(tick_marks, classes)\n",
    "    file_name =\"\" \n",
    "    if normalize:\n",
    "        cm = cm.astype('float') / cm.sum(axis=1)[:, np.newaxis]\n",
    "        print(\"Normalized confusion matrix\")\n",
    "        file_name = \"Normalized confusion matrix\"\n",
    "    else:\n",
    "        print('Confusion matrix, without normalization')\n",
    "        file_name = \"Confusion matrix without normalization\"\n",
    "\n",
    "    print(cm)\n",
    "\n",
    "    thresh = cm.max() / 2.\n",
    "    for i, j in itertools.product(range(cm.shape[0]), range(cm.shape[1])):\n",
    "        plt.text(j, i, cm[i, j],\n",
    "                 horizontalalignment=\"center\",\n",
    "                 color=\"white\" if cm[i, j] > thresh else \"black\")\n",
    "\n",
    "    plt.tight_layout()\n",
    "    plt.ylabel('True label')\n",
    "    plt.xlabel('Predicted label')\n",
    "    plt.savefig(file_name+\"_\"+classifier_name+\".eps\")\n"
   ]
  },
  {
   "cell_type": "code",
   "execution_count": 17,
   "metadata": {
    "collapsed": true
   },
   "outputs": [],
   "source": [
    "class_names = ['Unrelated',\"Related\"]"
   ]
  },
  {
   "cell_type": "code",
   "execution_count": 28,
   "metadata": {
    "collapsed": false
   },
   "outputs": [
    {
     "name": "stdout",
     "output_type": "stream",
     "text": [
      "Decision Tree\n",
      "Accuracy 0.953939393939\n",
      "Confusion matrix \n",
      "[[2525   36]\n",
      " [ 116  623]]\n",
      "Classification report \n",
      "             precision    recall  f1-score   support\n",
      "\n",
      "          0       0.96      0.99      0.97      2561\n",
      "          1       0.95      0.84      0.89       739\n",
      "\n",
      "avg / total       0.95      0.95      0.95      3300\n",
      "\n",
      "Confusion matrix, without normalization\n",
      "[[2525   36]\n",
      " [ 116  623]]\n",
      "Normalized confusion matrix\n",
      "[[ 0.99  0.01]\n",
      " [ 0.16  0.84]]\n"
     ]
    }
   ],
   "source": [
    "#Checking the decision treee classifer\n",
    "\n",
    "dt = DecisionTreeClassifier(max_depth=15,random_state=42)\n",
    "dt.fit(X_train,y_train)\n",
    "#Predict on the test data\n",
    "\n",
    "y_dt = dt.predict(X_test)\n",
    "#Classification accuracy,matrix and reports\n",
    "print \"Decision Tree\"\n",
    "print \"Accuracy \"+str(accuracy_score(y_test,y_dt))\n",
    "print \"Confusion matrix \"\n",
    "print str(confusion_matrix(y_test,y_dt))\n",
    "cnf_dt = confusion_matrix(y_test,y_dt)\n",
    "print \"Classification report \"\n",
    "print str(classification_report(y_test,y_dt))\n",
    "np.set_printoptions(precision=2)\n",
    "\n",
    "# Plot non-normalized confusion matrix\n",
    "plt.figure()\n",
    "plot_confusion_matrix(cnf_dt, classes=class_names,classifier_name=\"decision_tree\",\n",
    "                      title='Confusion matrix, without normalization',)\n",
    "\n",
    "# Plot normalized confusion matrix\n",
    "plt.figure()\n",
    "plot_confusion_matrix(cnf_dt, classes=class_names, normalize=True,classifier_name=\"decision_tree\",\n",
    "                      title='Normalized confusion matrix')\n",
    "\n",
    "plt.show()\n"
   ]
  },
  {
   "cell_type": "code",
   "execution_count": 19,
   "metadata": {
    "collapsed": false
   },
   "outputs": [
    {
     "name": "stdout",
     "output_type": "stream",
     "text": [
      "Random Forest\n",
      "Accuracy 0.963333333333\n",
      "Confusion matrix \n",
      "[[2541   20]\n",
      " [ 101  638]]\n",
      "Classification report \n",
      "             precision    recall  f1-score   support\n",
      "\n",
      "          0       0.96      0.99      0.98      2561\n",
      "          1       0.97      0.86      0.91       739\n",
      "\n",
      "avg / total       0.96      0.96      0.96      3300\n",
      "\n",
      "Confusion matrix, without normalization\n",
      "[[2541   20]\n",
      " [ 101  638]]\n",
      "Normalized confusion matrix\n",
      "[[ 0.99  0.01]\n",
      " [ 0.14  0.86]]\n"
     ]
    }
   ],
   "source": [
    "rf = RandomForestClassifier(n_estimators=300,max_depth=15,random_state=42)\n",
    "rf.fit(X_train,y_train)\n",
    "y_rf = rf.predict(X_test)\n",
    "print \"Random Forest\"\n",
    "print \"Accuracy \"+str(accuracy_score(y_test,y_rf))\n",
    "print \"Confusion matrix \"\n",
    "print str(confusion_matrix(y_test,y_rf))\n",
    "print \"Classification report \"\n",
    "print str(classification_report(y_test,y_rf))\n",
    "cnf_rf = confusion_matrix(y_test,y_rf)\n",
    "np.set_printoptions(precision=2)\n",
    "\n",
    "# Plot non-normalized confusion matrix\n",
    "plt.figure()\n",
    "plot_confusion_matrix(cnf_rf, classes=class_names,classifier_name=\"Random_forest\",\n",
    "                      title='Confusion matrix, without normalization',)\n",
    "\n",
    "# Plot normalized confusion matrix\n",
    "plt.figure()\n",
    "plot_confusion_matrix(cnf_rf, classes=class_names, normalize=True,classifier_name=\"Random_forest\",\n",
    "                      title='Normalized confusion matrix')\n",
    "\n",
    "plt.show()\n"
   ]
  },
  {
   "cell_type": "code",
   "execution_count": 20,
   "metadata": {
    "collapsed": false
   },
   "outputs": [
    {
     "name": "stdout",
     "output_type": "stream",
     "text": [
      "Adaboost Classifier\n",
      "Accuracy 0.957575757576\n",
      "Confusion matrix \n",
      "[[2529   32]\n",
      " [ 108  631]]\n",
      "Classification report \n",
      "             precision    recall  f1-score   support\n",
      "\n",
      "          0       0.96      0.99      0.97      2561\n",
      "          1       0.95      0.85      0.90       739\n",
      "\n",
      "avg / total       0.96      0.96      0.96      3300\n",
      "\n",
      "Confusion matrix, without normalization\n",
      "[[2529   32]\n",
      " [ 108  631]]\n",
      "Normalized confusion matrix\n",
      "[[ 0.99  0.01]\n",
      " [ 0.15  0.85]]\n"
     ]
    }
   ],
   "source": [
    "ad = AdaBoostClassifier(base_estimator=DecisionTreeClassifier(max_depth=8,random_state=42),learning_rate=0.9,n_estimators=500,\n",
    "                       random_state=1332)\n",
    "ad.fit(X_train,y_train)\n",
    "y_ad = ad.predict(X_test)\n",
    "print \"Adaboost Classifier\"\n",
    "print \"Accuracy \"+str(accuracy_score(y_test,y_ad))\n",
    "print \"Confusion matrix \"\n",
    "print str(confusion_matrix(y_test,y_ad))\n",
    "print \"Classification report \"\n",
    "print str(classification_report(y_test,y_ad))\n",
    "np.set_printoptions(precision=2)\n",
    "cnf_ad = confusion_matrix(y_test,y_ad)\n",
    "# Plot non-normalized confusion matrix\n",
    "plt.figure()\n",
    "plot_confusion_matrix(cnf_ad, classes=class_names,classifier_name=\"Adaboost\",\n",
    "                      title='Confusion matrix, without normalization',)\n",
    "\n",
    "# Plot normalized confusion matrix\n",
    "plt.figure()\n",
    "plot_confusion_matrix(cnf_ad, classes=class_names, normalize=True,classifier_name=\"Adaboost\",\n",
    "                      title='Normalized confusion matrix')\n",
    "\n",
    "plt.show()\n"
   ]
  },
  {
   "cell_type": "code",
   "execution_count": 21,
   "metadata": {
    "collapsed": false
   },
   "outputs": [
    {
     "name": "stdout",
     "output_type": "stream",
     "text": [
      "Linear SVM Classifier\n",
      "Accuracy 1.0\n",
      "Confusion matrix \n",
      "[[2561    0]\n",
      " [   0  739]]\n",
      "Classification report \n",
      "             precision    recall  f1-score   support\n",
      "\n",
      "          0       1.00      1.00      1.00      2561\n",
      "          1       1.00      1.00      1.00       739\n",
      "\n",
      "avg / total       1.00      1.00      1.00      3300\n",
      "\n",
      "Confusion matrix, without normalization\n",
      "[[2561    0]\n",
      " [   0  739]]\n",
      "Normalized confusion matrix\n",
      "[[ 1.  0.]\n",
      " [ 0.  1.]]\n"
     ]
    }
   ],
   "source": [
    "sv = LinearSVC(random_state=22,max_iter=100)\n",
    "sv.fit(X_train,y_train)\n",
    "y_sv = sv.predict(X_test)\n",
    "print \"Linear SVM Classifier\"\n",
    "print \"Accuracy \"+str(accuracy_score(y_test,y_sv))\n",
    "print \"Confusion matrix \"\n",
    "print str(confusion_matrix(y_test,y_sv))\n",
    "print \"Classification report \"\n",
    "print str(classification_report(y_test,y_sv))\n",
    "np.set_printoptions(precision=2)\n",
    "cnf_sv = confusion_matrix(y_test,y_sv)\n",
    "# Plot non-normalized confusion matrix\n",
    "plt.figure()\n",
    "plot_confusion_matrix(cnf_sv, classes=class_names,classifier_name=\"SVM\",\n",
    "                      title='Confusion matrix, without normalization',)\n",
    "\n",
    "# Plot normalized confusion matrix\n",
    "plt.figure()\n",
    "plot_confusion_matrix(cnf_sv, classes=class_names, normalize=True,classifier_name=\"SVM\",\n",
    "                      title='Normalized confusion matrix')\n",
    "\n",
    "plt.show()\n"
   ]
  },
  {
   "cell_type": "code",
   "execution_count": null,
   "metadata": {
    "collapsed": true
   },
   "outputs": [],
   "source": []
  }
 ],
 "metadata": {
  "kernelspec": {
   "display_name": "Python 2",
   "language": "python",
   "name": "python2"
  },
  "language_info": {
   "codemirror_mode": {
    "name": "ipython",
    "version": 2
   },
   "file_extension": ".py",
   "mimetype": "text/x-python",
   "name": "python",
   "nbconvert_exporter": "python",
   "pygments_lexer": "ipython2",
   "version": "2.7.7"
  }
 },
 "nbformat": 4,
 "nbformat_minor": 2
}
